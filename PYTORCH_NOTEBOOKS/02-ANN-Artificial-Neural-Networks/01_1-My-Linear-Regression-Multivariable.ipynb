{
 "cells": [
  {
   "cell_type": "code",
   "execution_count": 1,
   "metadata": {},
   "outputs": [],
   "source": [
    "import torch\n",
    "import torch.nn as nn  # we'll use this a lot going forward!\n",
    "\n",
    "import numpy as np\n",
    "import matplotlib.pyplot as plt\n",
    "%matplotlib inline"
   ]
  },
  {
   "cell_type": "code",
   "execution_count": 2,
   "metadata": {},
   "outputs": [
    {
     "name": "stdout",
     "output_type": "stream",
     "text": [
      "tensor([[ 1.0000, -1.3363, -1.0590, -0.8696, -0.7474, -0.6663],\n",
      "        [ 1.0000, -0.8018, -0.8347, -0.7856, -0.7178, -0.6561],\n",
      "        [ 1.0000, -0.2673, -0.4610, -0.5577, -0.5893, -0.5869],\n",
      "        [ 1.0000,  0.2673,  0.0623, -0.1139, -0.2434, -0.3309],\n",
      "        [ 1.0000,  0.8018,  0.7350,  0.6177,  0.4859,  0.3578],\n",
      "        [ 1.0000,  1.3363,  1.5573,  1.7091,  1.8121,  1.8824]])\n",
      "tensor([[0.3864],\n",
      "        [1.2311],\n",
      "        [1.9264],\n",
      "        [2.4722],\n",
      "        [2.8685],\n",
      "        [3.1153]])\n",
      "[[ 1.0000153e+00  0.0000000e+00 -6.1035156e-05 -6.1035156e-05\n",
      "   0.0000000e+00  0.0000000e+00]\n",
      " [-7.6293945e-06  9.9996948e-01  0.0000000e+00 -6.1035156e-05\n",
      "   0.0000000e+00  0.0000000e+00]\n",
      " [-7.6293945e-06  0.0000000e+00  1.0000000e+00  0.0000000e+00\n",
      "   0.0000000e+00  7.6293945e-06]\n",
      " [ 0.0000000e+00  7.6293945e-06  0.0000000e+00  1.0000000e+00\n",
      "   0.0000000e+00  9.5367432e-07]\n",
      " [ 0.0000000e+00  0.0000000e+00  6.1035156e-05 -3.0517578e-05\n",
      "   9.9998474e-01 -1.9073486e-06]\n",
      " [-1.5258789e-05  0.0000000e+00  6.1035156e-05  6.1035156e-05\n",
      "   3.0517578e-05  9.9998474e-01]]\n"
     ]
    }
   ],
   "source": [
    "max_degree = 5\n",
    "n_samples = 6\n",
    "X = torch.linspace(1,n_samples,n_samples).reshape(-1,1) # Column Vector: 50 x 1 shape\n",
    "exponents = torch.arange(0,max_degree+1).reshape(1,-1).type(torch.float) # It must be type torch.float to be used in pow\n",
    "poly_X = torch.pow(X,exponents) # 50 x max_degree size\n",
    "poly_X_norm = torch.ones_like(poly_X)\n",
    "poly_X_norm[:,1:] = (poly_X[:,1:] - torch.mean(poly_X[:,1:],dim = 0)) / torch.std(poly_X[:,1:], dim = 0) # Normalize to not diverge, lr reasonably size\n",
    "true_w = torch.zeros(max_degree+1)\n",
    "true_w[:3] = torch.FloatTensor([2,2,-1])#,-1.6,-1.35])\n",
    "true_w = true_w.reshape(-1,1)\n",
    "y_without_noise = torch.mm(poly_X_norm,true_w)\n",
    "print(poly_X_norm)\n",
    "print(y_without_noise)\n",
    "print(poly_X_norm.numpy() @ np.linalg.inv(poly_X_norm.numpy()))"
   ]
  },
  {
   "cell_type": "code",
   "execution_count": 3,
   "metadata": {},
   "outputs": [
    {
     "data": {
      "text/plain": [
       "tensor([[0.3884],\n",
       "        [1.2341],\n",
       "        [1.9284],\n",
       "        [2.4712],\n",
       "        [2.8665],\n",
       "        [3.1163]])"
      ]
     },
     "execution_count": 3,
     "metadata": {},
     "output_type": "execute_result"
    }
   ],
   "source": [
    "e = torch.randint(-1*max_degree,1*max_degree,(n_samples,1),dtype=torch.float)\n",
    "y = y_without_noise + 0.001*e\n",
    "y"
   ]
  },
  {
   "cell_type": "code",
   "execution_count": 4,
   "metadata": {},
   "outputs": [],
   "source": [
    "class Model(nn.Module):\n",
    "    def __init__(self, in_features, out_features):\n",
    "        super().__init__()\n",
    "        self.linear = nn.Linear(in_features, out_features)\n",
    "        \n",
    "    def forward(self, x):\n",
    "        y_pred = self.linear(x)\n",
    "        return y_pred"
   ]
  },
  {
   "cell_type": "code",
   "execution_count": 5,
   "metadata": {},
   "outputs": [
    {
     "name": "stdout",
     "output_type": "stream",
     "text": [
      "Model(\n",
      "  (linear): Linear(in_features=6, out_features=1, bias=True)\n",
      ")\n",
      "Weight: Parameter containing:\n",
      "tensor([[ 0.3492,  0.0667, -0.3297, -0.4071,  0.0608,  0.1737]],\n",
      "       requires_grad=True)\n",
      "Bias:   -0.11055880784988403\n"
     ]
    }
   ],
   "source": [
    "torch.manual_seed(234)\n",
    "model = Model(max_degree + 1, 1) \n",
    "print(model)\n",
    "print('Weight:', model.linear.weight)\n",
    "print('Bias:  ', model.linear.bias.item())"
   ]
  },
  {
   "cell_type": "code",
   "execution_count": 6,
   "metadata": {},
   "outputs": [],
   "source": [
    "criterion = nn.MSELoss()"
   ]
  },
  {
   "cell_type": "code",
   "execution_count": 7,
   "metadata": {},
   "outputs": [],
   "source": [
    "optimizer = torch.optim.SGD(model.parameters(), lr = 0.1)"
   ]
  },
  {
   "cell_type": "code",
   "execution_count": 8,
   "metadata": {},
   "outputs": [],
   "source": [
    "def train_and_get_losses(model, epochs = 1000, print_partial = False):\n",
    "    epochs = epochs\n",
    "    losses = []\n",
    "    print_partial = print_partial\n",
    "\n",
    "    for i in range(epochs):\n",
    "        i+=1\n",
    "        y_pred = model.forward(poly_X_norm)\n",
    "        loss = criterion(y_pred, y)\n",
    "        losses.append(loss)\n",
    "        if print_partial:\n",
    "            print(f'epoch: {i:2}  loss: {loss.item():10.8f} weight: {model.linear.weight}  \\\n",
    "            bias: {model.linear.bias.item():10.8f}') \n",
    "        optimizer.zero_grad()\n",
    "        loss.backward()\n",
    "        optimizer.step()\n",
    "    print(f\"Last differences:{y_pred - y}\")\n",
    "    return (losses,model)"
   ]
  },
  {
   "cell_type": "code",
   "execution_count": 9,
   "metadata": {},
   "outputs": [
    {
     "name": "stdout",
     "output_type": "stream",
     "text": [
      "Last differences:tensor([[ 0.0062],\n",
      "        [-0.0103],\n",
      "        [ 0.0004],\n",
      "        [ 0.0064],\n",
      "        [-0.0029],\n",
      "        [ 0.0002]], grad_fn=<SubBackward0>)\n",
      "linear.weight \t Parameter containing:\n",
      "tensor([[ 1.2303,  1.7367, -0.1736, -0.6997, -0.1376,  0.2712]],\n",
      "       requires_grad=True)\n",
      "linear.bias \t Parameter containing:\n",
      "tensor([0.7706], requires_grad=True)\n"
     ]
    },
    {
     "data": {
      "image/png": "[encoded data removed]",
      "text/plain": [
       "<Figure size 432x288 with 1 Axes>"
      ]
     },
     "metadata": {
      "needs_background": "light"
     },
     "output_type": "display_data"
    }
   ],
   "source": [
    "epochs = 5000\n",
    "(losses,model) = train_and_get_losses(model,epochs = epochs)\n",
    "plt.plot(range(epochs), losses)\n",
    "plt.ylabel('Loss')\n",
    "plt.xlabel('epoch');\n",
    "for name, param in model.named_parameters():\n",
    "    print(name, '\\t', param) "
   ]
  },
  {
   "cell_type": "code",
   "execution_count": 10,
   "metadata": {},
   "outputs": [
    {
     "data": {
      "text/plain": [
       "[<matplotlib.lines.Line2D at 0x1270dd358>]"
      ]
     },
     "execution_count": 10,
     "metadata": {},
     "output_type": "execute_result"
    },
    {
     "data": {
      "image/png": "[encoded data removed]",
      "text/plain": [
       "<Figure size 432x288 with 1 Axes>"
      ]
     },
     "metadata": {
      "needs_background": "light"
     },
     "output_type": "display_data"
    }
   ],
   "source": [
    "y_pred = model.forward(poly_X_norm)\n",
    "y_pred_analytic = poly_X_norm.numpy() @ np.linalg.inv(poly_X_norm.numpy())@ y.numpy()\n",
    "plt.scatter(X[:,0].numpy(), y.numpy())\n",
    "plt.plot(X[:,0].numpy(), y_pred.detach().numpy(),'r') # By default connects the 2 dots with a 'r'ed line\n",
    "plt.plot(X[:,0].numpy(), y_pred_analytic,'b') "
   ]
  },
  {
   "cell_type": "code",
   "execution_count": null,
   "metadata": {},
   "outputs": [],
   "source": []
  },
  {
   "cell_type": "code",
   "execution_count": null,
   "metadata": {},
   "outputs": [],
   "source": []
  }
 ],
 "metadata": {
  "kernelspec": {
   "display_name": "Python 3",
   "language": "python",
   "name": "python3"
  },
  "language_info": {
   "codemirror_mode": {
    "name": "ipython",
    "version": 3
   },
   "file_extension": ".py",
   "mimetype": "text/x-python",
   "name": "python",
   "nbconvert_exporter": "python",
   "pygments_lexer": "ipython3",
   "version": "3.7.3"
  }
 },
 "nbformat": 4,
 "nbformat_minor": 2
}
